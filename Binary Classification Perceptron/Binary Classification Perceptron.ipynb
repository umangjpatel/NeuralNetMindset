{
 "cells": [
  {
   "cell_type": "markdown",
   "metadata": {},
   "source": [
    "<h1>Binary Classification using Perceptron Model</h1>\n",
    "<p>In this notebook, I will be showing you how to build a flower classifier taking inspiration from neural networks</p>\n",
    "<p>For simplicity, I will only be classifying a plant into two species - <i>Iris-setosa</i> and <i>Iris-virginica</i> (as they are linearly separable :D )</p>"
   ]
  },
  {
   "cell_type": "markdown",
   "metadata": {},
   "source": [
    "<h2>Theory</h2>\n",
    "<img src=\"https://cdn-images-1.medium.com/max/1600/1*UA30b0mJUPYoPvN8yJr2iQ.jpeg\" />\n",
    "<p>The above image is of the Perceptron model. This model is considered as the roots of the Neural Networks technology you see today.</p>\n",
    "<p>Basically, this model takes in inputs (X) connected to a neuron, these connections having some weights (W). This neuron computes the net input i.e z = w<sub>1</sub>.x<sub>1</sub> + w<sub>2</sub>.x<sub>2</sub> +w<sub>3</sub>.x<sub>3</sub> + .. + w<sub>n</sub>.x<sub>n</sub>. A bias (b) value is then added to this net input value. After this, an activation function is used (here - a sigmoid / logistic function). In our case, we use a logistic function, which computes the probability (output) of answer being positive based on the features which is paramterized over the parameters w and b.</p>\n",
    "<p>This still lacks a major portion. We require the backpropogation algorithm so as to compute the errors in our predictions and update the parameters after every iteration so as to make the model a good predictor of Y.</p>\n",
    "<p>Logistic function is not the only activation function. There are many more !!!</p>"
   ]
  },
  {
   "cell_type": "markdown",
   "metadata": {},
   "source": [
    "<h2>Importing packages</h2>\n",
    "<p>The three packages that have rocked the data science world are :-</p>\n",
    "<ol>\n",
    "    <li>NumPy, for vectorized calculations</li>\n",
    "    <li>Matplotlib, for data visualization</li>\n",
    "    <li>Pandas, for reading and manipulating with dataset</li>\n",
    "</ol>"
   ]
  },
  {
   "cell_type": "code",
   "execution_count": 1,
   "metadata": {},
   "outputs": [],
   "source": [
    "import numpy as np\n",
    "import matplotlib.pyplot as plt\n",
    "import pandas as pd"
   ]
  },
  {
   "cell_type": "markdown",
   "metadata": {},
   "source": [
    "<h2>Fetching the dataset</h2>\n",
    "<p>Using pandas' read_csv( ) function, we read the <i>iris.csv</i> file from the current directory. As the flower ID (column = 'Id') is not useful for us in any way, we can simply drop it. Just for our sanity check, we print the first 5 rows of the dataset.</p>"
   ]
  },
  {
   "cell_type": "code",
   "execution_count": 2,
   "metadata": {},
   "outputs": [
    {
     "name": "stdout",
     "output_type": "stream",
     "text": [
      "   SepalLengthCm  SepalWidthCm  PetalLengthCm  PetalWidthCm      Species\n",
      "0            5.1           3.5            1.4           0.2  Iris-setosa\n",
      "1            4.9           3.0            1.4           0.2  Iris-setosa\n",
      "2            4.7           3.2            1.3           0.2  Iris-setosa\n",
      "3            4.6           3.1            1.5           0.2  Iris-setosa\n",
      "4            5.0           3.6            1.4           0.2  Iris-setosa\n"
     ]
    }
   ],
   "source": [
    "dataset = pd.read_csv(\"iris.csv\").drop(['Id'], axis=1)\n",
    "print(dataset.head())"
   ]
  },
  {
   "cell_type": "markdown",
   "metadata": {},
   "source": [
    "<h2>Separating the dataset</h2>\n",
    "<p>After fetching the dataset, we see that there are following features :-</p>\n",
    "<ol>\n",
    "    <li>SepalLengthCm : The length of the sepal in centimeters</li>\n",
    "    <li>SepalWidthCm : The width of the sepal in centimeters</li>\n",
    "    <li>PetalLengthCm : The length of the petal in centimeters</li>\n",
    "    <li>PetalWidthCm : The widht of the petal in centimeters</li>\n",
    "</ol>\n",
    "<p>We also see the 'Species' column which has the following values :-</p>\n",
    "<ul>\n",
    "    <li><i>Iris-setosa</i></li>\n",
    "    <li><i>Iris-virginica</i></li>\n",
    "    <li><i>Iris-versicolor</i></li>\n",
    "</ul>\n",
    "<p>Based on above different values, we segragate the data based on the sepal and petal measurements for each flower species</p>"
   ]
  },
  {
   "cell_type": "code",
   "execution_count": 3,
   "metadata": {},
   "outputs": [],
   "source": [
    "iris_setosa = dataset[dataset['Species'] == 'Iris-setosa']\n",
    "iris_virginica = dataset[dataset['Species'] == 'Iris-virginica']\n",
    "iris_versicolor = dataset[dataset['Species'] == 'Iris-versicolor']\n",
    "\n",
    "sepal_iris_setosa = iris_setosa[['SepalWidthCm', 'SepalLengthCm', 'Species']]\n",
    "sepal_iris_virginica = iris_virginica[['SepalWidthCm', 'SepalLengthCm', 'Species']]\n",
    "sepal_iris_versicolor = iris_versicolor[['SepalWidthCm', 'SepalLengthCm', 'Species']]\n",
    "\n",
    "petal_iris_setosa = iris_setosa[['PetalWidthCm', 'PetalLengthCm', 'Species']]\n",
    "petal_iris_virginica = iris_virginica[['PetalWidthCm', 'PetalLengthCm', 'Species']]\n",
    "petal_iris_versicolor = iris_versicolor[['PetalWidthCm', 'PetalLengthCm', 'Species']]"
   ]
  },
  {
   "cell_type": "markdown",
   "metadata": {},
   "source": [
    "<h2>Visualizing the data</h2>\n",
    "<p>For our case, we will classify the Iris flower based on the sepal measurements for the two classes - <i>Iris-setoasa</i> and <i>Iris-virginica</i></p>\n",
    "<p>To check whether there exists any relationship between these types of flowers, we draw a scatter plot using Matplotlib library's scatter( ) function. This function takes in following arguments :-</p>\n",
    "<ol>\n",
    "    <li>Values on the X-axis</li>\n",
    "    <li>Values on the Y-axis</li>\n",
    "    <li>Color of the data point (OPTIONAL)</li>\n",
    "</ol>\n",
    "<p>Then just to make our graph more easier to read, we add title and labels for the respective axes.</p>"
   ]
  },
  {
   "cell_type": "code",
   "execution_count": 4,
   "metadata": {},
   "outputs": [
    {
     "data": {
      "image/png": "[encoded data removed]",
      "text/plain": [
       "<Figure size 432x288 with 1 Axes>"
      ]
     },
     "metadata": {
      "needs_background": "light"
     },
     "output_type": "display_data"
    }
   ],
   "source": [
    "plt.scatter(sepal_iris_setosa['SepalWidthCm'], sepal_iris_setosa['SepalLengthCm'], color=\"red\")\n",
    "plt.scatter(sepal_iris_virginica['SepalWidthCm'], sepal_iris_virginica['SepalLengthCm'], color=\"green\")\n",
    "plt.xlabel('Sepal Width (in cm)')\n",
    "plt.ylabel('Sepal Length (in cm)')\n",
    "plt.title('Sepal Measurements for Iris-setosa and Iris-virginica')\n",
    "plt.show()"
   ]
  },
  {
   "cell_type": "markdown",
   "metadata": {},
   "source": [
    "<h2>Feature selection and Encoding</h2>\n",
    "<p>We now select the features we are going to use (sepal measurements i.e SepalLengthCm and SepalWidthCm). After selecting the features, we also require to encode the class labels, that is, 1 for positive class and 0 for negative class.</p>\n",
    "<p>We do the above steps using suitable NumPy and Pandas functions. After completion, we print out the dimensions of the features and labels set.</p>"
   ]
  },
  {
   "cell_type": "code",
   "execution_count": 5,
   "metadata": {},
   "outputs": [
    {
     "name": "stdout",
     "output_type": "stream",
     "text": [
      "Features shape : (2, 100)\n",
      "Labels shape : (1, 100)\n"
     ]
    }
   ],
   "source": [
    "data = dataset[dataset['Species'] != 'Iris-versicolor'].drop(['PetalWidthCm', 'PetalLengthCm'], axis=1)\n",
    "labels = data['Species'].values\n",
    "labels = np.where(labels == 'Iris-setosa', 1, 0)\n",
    "labels = labels.reshape((1, labels.shape[0]))\n",
    "features = data.drop(['Species'], axis=1).values\n",
    "features = features.T\n",
    "print(\"Features shape : \" + str(features.shape))\n",
    "print(\"Labels shape : \" + str(labels.shape))"
   ]
  },
  {
   "cell_type": "markdown",
   "metadata": {},
   "source": [
    "<h2>Sigmoid Helper Function</h2>\n",
    "<p>The sigmoid function is a function which takes in certain inputs and gives you the output in the range [0,1].</p>\n",
    "<p>The formulae is shown as below :-</p>\n",
    "<img src=\"https://camo.githubusercontent.com/dc45ad294e2277f9bec8d0bb5fd12b53057f0e76/68747470733a2f2f6c68362e676f6f676c6575736572636f6e74656e742e636f6d2f594c6a377572447062334c756264557a5f4a7132786c2d4c6d354b565076565a5076596f30373874504b2d5872654c4271496d52634b54744f76626271485f435130646c773256634e346654774c694e6450627666424c776d56386934564f684a6f4833397047336e5a3435755652474a68686c5550694a746841446a4f65646941\" />"
   ]
  },
  {
   "cell_type": "code",
   "execution_count": 6,
   "metadata": {},
   "outputs": [],
   "source": [
    "def sigmoid(z):\n",
    "    return 1 / (1 + np.exp(-z))"
   ]
  },
  {
   "cell_type": "markdown",
   "metadata": {},
   "source": [
    "<h2>Parameter Initialization Helper Function</h2>\n",
    "<p>We require the 'W' and 'b' parameters so as to build our logistic regression model. But, for training the learning algorthm, we require some initial values from which the process will start. Therefore, we initialize the weights and bias to 0. To do this, we build a helper function which takes in the number of features (dimens) and returns the weights and bias as a tuple, having the appropritate dimensions</p>"
   ]
  },
  {
   "cell_type": "code",
   "execution_count": 7,
   "metadata": {},
   "outputs": [],
   "source": [
    "def initialize_weights(dimens):\n",
    "    weights = np.zeros((dimens, 1))\n",
    "    bias = 0\n",
    "    \n",
    "    return weights, bias\n",
    "\n",
    "dimens = features.shape[0]\n",
    "weights, bias = initialize_weights(dimens)"
   ]
  },
  {
   "cell_type": "markdown",
   "metadata": {},
   "source": [
    "<h2>Forward Propogation and Derivatives</h2>\n",
    "<p>This function contains code that computes the probability that Y = 1; given X - as well as computes the gradients i.e small changes in weights required to be updated (for backpropogation).</p>\n",
    "<p>The intuition of using the logistic function is that it will give us the probability that our output is 1. E.g : h(x) = 0.7 implies that there is 70% chance that our output is 1.</p>\n",
    "<p>The cost function in logistic regression is as follows :-</p>\n",
    "<img src=\"https://camo.githubusercontent.com/ef54d4fa4553c2fa8643e4f22942e5cfd4870b50/68747470733a2f2f6c68362e676f6f676c6575736572636f6e74656e742e636f6d2f486c6b77664770394c4b79463066663544554a4b526777556a702d7768316e496b544132684c4c757049514445655f41384d4364697a4342784e356b657061347a426e7636636b7034345a556c6b4b326331746d732d476742356643424459314f72384f654e574d33434a5a6e484552314737704b7535786d43486d416d63563777\" />\n",
    "<p>Notice that when y is equal to 1, then the second term will be zero and will not affect the result. If y is equal to 0, then the first term will be zero and will not affect the result. For incorrect outputs, the cost function gets penalized heavily.</p>\n",
    "<p>Below are some notations used :-</p>\n",
    "<ol>\n",
    "    <li>m - Number of training examples</li>\n",
    "    <li>Z - Net input i.e W<sup>T</sup>.X + b</li>\n",
    "    <li>A - Sigmoid of the net input (Probabilities)</li>\n",
    "    <li>J - Cost function</li>\n",
    "    <li>dW - Derivatives for weights (Small changes required in weights)</li>\n",
    "    <li>db - Derivative for bias (Small change required in bias)</li>\n",
    "</ol>\n",
    "<p>After computing the respective values, we return the gradients and value of cost function so that the learning algorithm can utilize these in order to make the model a good flower classifier.</p> "
   ]
  },
  {
   "cell_type": "code",
   "execution_count": 8,
   "metadata": {},
   "outputs": [
    {
     "name": "stdout",
     "output_type": "stream",
     "text": [
      "First iteration :-\n",
      "dw :  [[ 0.3955 -0.111 ]]\n",
      "db :  0.0\n",
      "Cost :  0.6931471805599453\n"
     ]
    }
   ],
   "source": [
    "def forward_propogation(W, b, X, Y):\n",
    "    m = X.shape[1]\n",
    "    Z = np.dot(W.T, X) + b\n",
    "    A = sigmoid(Z)\n",
    "    J = (-1 / m ) * np.sum((Y * np.log(A) + (1 - Y) * np.log(1 - A)))\n",
    "    \n",
    "    dZ = A - Y\n",
    "    dW = np.dot(dZ, X.T) / m\n",
    "    db = np.sum(dZ) / m\n",
    "    \n",
    "    gradients = {'dW' : dW, 'db' : db}\n",
    "    \n",
    "    return gradients, J\n",
    "    \n",
    "    \n",
    "grads, cost = forward_propogation(weights, bias, features, labels)\n",
    "dw, db = grads['dW'], grads['db']\n",
    "print(\"First iteration :-\")\n",
    "print(\"dw : \", dw)\n",
    "print(\"db : \", db)\n",
    "print(\"Cost : \", cost)"
   ]
  },
  {
   "cell_type": "markdown",
   "metadata": {},
   "source": [
    "<h2>Backpropogation with Gradient Descent optimization technique</h2>\n",
    "<p>This function uses gradient descent optimization technique, which is used so as to choose the suitable values of our parameters in order to minimize the cost function. Our function uses two new arguments as follows :-</p>\n",
    "<ol>\n",
    "    <li>alpha - Learning rate or step size for the gradient descent</li>\n",
    "    <li>epochs - Number of iterations we wish to train our algorithm</li>\n",
    "</ol>\n",
    "<p>The following procedure is done :-</p>\n",
    "<img src=\"https://camo.githubusercontent.com/fbe5097e6a3391e7f852a050387218506f8d6127/68747470733a2f2f63646e2d696d616765732d312e6d656469756d2e636f6d2f6d61782f313630302f302a38797a766437515a4c6e3554315857672e6a7067\" />\n",
    "<p>Now, for particular epoch / iteration, following steps are covered :-</p>\n",
    "<ol>\n",
    "    <li>Compute the gradients and cost using forward propogation</li>\n",
    "    <li>Append the cost value to a list for further analysis of our learning algorithm (OPTIONAL)</li>\n",
    "    <li>Print the cost value after every set of iteration (OPTIONAL)</li>\n",
    "    <li>Use the formula to update the weights and bias (MUST)</li>\n",
    "</ol>\n",
    "<p>After training, we return the optimal values of the weights as well as return the costs computed over the period of training the algorithm</p>"
   ]
  },
  {
   "cell_type": "code",
   "execution_count": 9,
   "metadata": {},
   "outputs": [
    {
     "name": "stdout",
     "output_type": "stream",
     "text": [
      "Cost at epoch 0 :  0.6931471805599453\n",
      "Cost at epoch 100 :  0.6218760553048186\n",
      "Cost at epoch 200 :  0.5654909413867139\n",
      "Cost at epoch 300 :  0.5180564225919233\n",
      "Cost at epoch 400 :  0.47788048761902374\n",
      "Cost at epoch 500 :  0.44358808235706243\n",
      "Cost at epoch 600 :  0.4140805976049988\n",
      "Cost at epoch 700 :  0.3884868138163424\n",
      "Cost at epoch 800 :  0.3661166963943033\n",
      "Cost at epoch 900 :  0.346422252413687\n",
      "Training complete\n"
     ]
    }
   ],
   "source": [
    "def gradient_descent(W, b, X, Y, alpha = 0.009, epochs=1000):\n",
    "    costs = []\n",
    "    m = X.shape[1]\n",
    "    for i in range(epochs):\n",
    "        grads, cost = forward_propogation(W, b, X, Y)\n",
    "        costs.append(cost)\n",
    "        if i % (epochs // 10) == 0:\n",
    "            print(\"Cost at epoch \" + str(i) + \" : \", cost)\n",
    "        dW, db = grads['dW'], grads['db']\n",
    "        dW = dW.T\n",
    "        \n",
    "        W -= alpha * dW\n",
    "        b -= alpha * b\n",
    "        \n",
    "    print(\"Training complete\")\n",
    "    params = {'W' : W, 'b' : b}\n",
    "    \n",
    "    return params, costs\n",
    "    \n",
    "params, costs = gradient_descent(weights, bias, features, labels)"
   ]
  },
  {
   "cell_type": "markdown",
   "metadata": {},
   "source": [
    "<h2>Predictions over new data</h2>\n",
    "<p>This function uses the optimal parameter values and computes the probability via forward pass and compares the results to the labels, so as to compute the accuracy of our model</p>\n",
    "<p><b>Note :</b> I used the same training data to compute the accuracy of our model. We actually provide the testing set (unseen data) to test our model</p>"
   ]
  },
  {
   "cell_type": "code",
   "execution_count": 10,
   "metadata": {},
   "outputs": [
    {
     "name": "stdout",
     "output_type": "stream",
     "text": [
      "Accuracy : 99.000000 %\n"
     ]
    }
   ],
   "source": [
    "def predict(params, X_test, Y_test):\n",
    "    W, b = params['W'], params['b']\n",
    "    Z = np.dot(W.T, X_test) + b\n",
    "    pred = sigmoid(Z)\n",
    "    \n",
    "    pred_labels = np.where(pred > 0.5, 1, 0)\n",
    "    accuracy = 100 * np.mean(pred_labels == labels)\n",
    "    print(\"Accuracy : %f %s\" % (accuracy, '%'))\n",
    "\n",
    "predict(params, features, labels)"
   ]
  },
  {
   "cell_type": "markdown",
   "metadata": {},
   "source": [
    "<h2>Learning Curve</h2>\n",
    "<p>Now using Matplotlib, we plot the cost values of our algorithm over the number of iterations (epochs). This curve gives us an insight that our learning algorithm is doing pretty well.</p>"
   ]
  },
  {
   "cell_type": "code",
   "execution_count": 11,
   "metadata": {},
   "outputs": [
    {
     "data": {
      "image/png": "[encoded data removed]",
      "text/plain": [
       "<Figure size 432x288 with 1 Axes>"
      ]
     },
     "metadata": {
      "needs_background": "light"
     },
     "output_type": "display_data"
    }
   ],
   "source": [
    "plt.plot(range(1000), costs)\n",
    "plt.xlabel('Epochs')\n",
    "plt.ylabel('Cost')\n",
    "plt.title('Cost v/s Epochs')\n",
    "plt.show()"
   ]
  }
 ],
 "metadata": {
  "kernelspec": {
   "display_name": "Python 3",
   "language": "python",
   "name": "python3"
  },
  "language_info": {
   "codemirror_mode": {
    "name": "ipython",
    "version": 3
   },
   "file_extension": ".py",
   "mimetype": "text/x-python",
   "name": "python",
   "nbconvert_exporter": "python",
   "pygments_lexer": "ipython3",
   "version": "3.7.1"
  }
 },
 "nbformat": 4,
 "nbformat_minor": 2
}
