{
 "cells": [
  {
   "cell_type": "markdown",
   "metadata": {},
   "source": [
    "<h1>Performance Comparisons of Different Activation Functions on the training of Neural Networks</h1>\n",
    "<p>In this Jupyter Notebook, I have demonstrated the effect of various activation functions in the training of deep neural networks.The activation functions used are :-</p>\n",
    "<ul>\n",
    "    <li>Sigmoid activation</li>\n",
    "    <li>Tanh activation</li>\n",
    "    <li>ReLU activation</li>\n",
    "</ul>\n",
    "<p>This notebook was trained using <a href=\"http://colab.research.google.com\">Google Colab</a> on a <b>TPU runtime!</b> :D</p>"
   ]
  },
  {
   "cell_type": "markdown",
   "metadata": {},
   "source": [
    "<h2>Libraries Used</h2>\n",
    "<p>The packages/libraries imported are :-</p>\n",
    "<ul>\n",
    "    <li>NumPy, for vectorization operations.</li>\n",
    "    <li>Pandas, for reading and manipulating the dataset.</li>\n",
    "    <li>Matplotlib, for visualization.</li>\n",
    "    <li>Keras (with Tensorflow backend), for constructing and training the CNN model.</li>\n",
    "</ul>"
   ]
  },
  {
   "cell_type": "code",
   "execution_count": 0,
   "metadata": {
    "colab": {
     "base_uri": "https://localhost:8080/",
     "height": 76
    },
    "colab_type": "code",
    "id": "HY1BY0OFmTfS",
    "outputId": "212d769a-b4eb-4874-8fb4-4548dd4418a2"
   },
   "outputs": [
    {
     "name": "stderr",
     "output_type": "stream",
     "text": [
      "Using TensorFlow backend.\n"
     ]
    }
   ],
   "source": [
    "import tensorflow\n",
    "from tensorflow import keras\n",
    "from keras.models import Sequential\n",
    "from keras.layers import Conv2D, MaxPooling2D, Flatten, Dense\n",
    "\n",
    "import numpy as np\n",
    "import matplotlib.pyplot as plt\n",
    "import pandas as pd"
   ]
  },
  {
   "cell_type": "markdown",
   "metadata": {},
   "source": [
    "<h2>Importing the dataset</h2>\n",
    "<p>I used the MNIST dataset, downloaded from Google Colab's sample data files.</p>\n",
    "<p>The MNIST dataset is stored in CSV format. So, Pandas can easily import the data using the read_csv( ) function as shown below.</p>"
   ]
  },
  {
   "cell_type": "code",
   "execution_count": 0,
   "metadata": {
    "colab": {
     "base_uri": "https://localhost:8080/",
     "height": 220
    },
    "colab_type": "code",
    "id": "qCjtC5Z0m0uZ",
    "outputId": "141ac220-cc6b-4aa1-c5d5-d565ea30e302"
   },
   "outputs": [
    {
     "name": "stdout",
     "output_type": "stream",
     "text": [
      "   0    1    2    3    4    5    6    ...  778  779  780  781  782  783  784\n",
      "0    6    0    0    0    0    0    0  ...    0    0    0    0    0    0    0\n",
      "1    5    0    0    0    0    0    0  ...    0    0    0    0    0    0    0\n",
      "2    7    0    0    0    0    0    0  ...    0    0    0    0    0    0    0\n",
      "3    9    0    0    0    0    0    0  ...    0    0    0    0    0    0    0\n",
      "4    5    0    0    0    0    0    0  ...    0    0    0    0    0    0    0\n",
      "\n",
      "[5 rows x 785 columns]\n"
     ]
    }
   ],
   "source": [
    "training_dataset = pd.read_csv('sample_data/mnist_train_small.csv', header=None)\n",
    "print(training_dataset.head())"
   ]
  },
  {
   "cell_type": "markdown",
   "metadata": {},
   "source": [
    "<h2>Getting the labels of the digits</h2>\n",
    "<p>From the dataset structure, we see that the labels for the digits are stored in the first column i.e index = 0 in the Pandas dataframe. To extract only this column, we simply subset it using the index and convert it to a NumPy array as shown below.</p>"
   ]
  },
  {
   "cell_type": "code",
   "execution_count": 0,
   "metadata": {
    "colab": {
     "base_uri": "https://localhost:8080/",
     "height": 92
    },
    "colab_type": "code",
    "id": "1ch2lLPsnHVY",
    "outputId": "5cdddac8-c22b-4e32-c703-8861f849f5ca"
   },
   "outputs": [
    {
     "name": "stdout",
     "output_type": "stream",
     "text": [
      "[6 5 7 ... 2 9 5]\n",
      "(20000,)\n"
     ]
    }
   ],
   "source": [
    "train_labels = training_dataset[0].values\n",
    "print(train_labels)\n",
    "print(train_labels.shape)"
   ]
  },
  {
   "cell_type": "markdown",
   "metadata": {},
   "source": [
    "<h2>Getting the digit images</h2>\n",
    "<p>From the dataset structure, we see that the pixel intensity values are stored starting from the second column i.e from index = 1 in the Pandas dataframe. Here, for one digit image, there are 784 pixel intensity values. This is the reason there are 784 columns.</p>\n",
    "<p>Moreover, these digit images are grayscale or black and white in layman's language. Therefore, there is only a single colour channel for the images.</p>\n",
    "<p>We simple drop/remove the first column from the dataset in order to retrive the values.</p>"
   ]
  },
  {
   "cell_type": "code",
   "execution_count": 0,
   "metadata": {
    "colab": {
     "base_uri": "https://localhost:8080/",
     "height": 76
    },
    "colab_type": "code",
    "id": "orHQToOonfNl",
    "outputId": "b39f7a48-16eb-4ff4-8a15-3b7606577095"
   },
   "outputs": [
    {
     "name": "stdout",
     "output_type": "stream",
     "text": [
      "(20000, 784)\n"
     ]
    }
   ],
   "source": [
    "training_images = training_dataset.drop([0], axis=1).values\n",
    "print(training_images.shape)"
   ]
  },
  {
   "cell_type": "markdown",
   "metadata": {},
   "source": [
    "<h2>Reshaping the images</h2>\n",
    "<p>In order to represent the pixel intensity values into 2 dimensional images, we use the reshape( ) function of NumPy array. We see that there 20,000 images of the dimensions 28 x 28 with only 1 colour channel.</p>"
   ]
  },
  {
   "cell_type": "code",
   "execution_count": 0,
   "metadata": {
    "colab": {
     "base_uri": "https://localhost:8080/",
     "height": 76
    },
    "colab_type": "code",
    "id": "79a57XFanm-v",
    "outputId": "1cc7708f-5621-4ffa-bce3-bcad04ebf2ff"
   },
   "outputs": [
    {
     "name": "stdout",
     "output_type": "stream",
     "text": [
      "(20000, 28, 28, 1)\n"
     ]
    }
   ],
   "source": [
    "train_images = training_images.reshape(training_images.shape[0], 28, 28, 1)\n",
    "print(train_images.shape)"
   ]
  },
  {
   "cell_type": "markdown",
   "metadata": {},
   "source": [
    "<h2>CNN Model with different activation functions</h2>\n",
    "<p>Let's start making the CNN model. The CNN model follows the popular LeNet-5 architecture. This model is built using Keras libary supported with Tensorflow as computation backend engine.</p>\n",
    "<p>For each model shown follows, uses RMSProp optimization algorithm and Sparse Categorical Crossentropy loss function (as the labels are integers and not one-hot encoded). Moreover, the output layer requires the softmax function as it a multi-class classification problem.</p>\n",
    "<p>Each model is trained for 10 epochs with the accuracies and losses stored for comparisons later on.</p>"
   ]
  },
  {
   "cell_type": "markdown",
   "metadata": {},
   "source": [
    "<h3>Sigmoid activation CNN model</h3>"
   ]
  },
  {
   "cell_type": "code",
   "execution_count": 0,
   "metadata": {
    "colab": {
     "base_uri": "https://localhost:8080/",
     "height": 1020
    },
    "colab_type": "code",
    "id": "fq4NKY2Tp1Le",
    "outputId": "3b32eb46-93c4-4dc3-f04b-1f5e4254ed4c"
   },
   "outputs": [
    {
     "name": "stdout",
     "output_type": "stream",
     "text": [
      "WARNING:tensorflow:From /usr/local/lib/python3.6/dist-packages/tensorflow/python/framework/op_def_library.py:263: colocate_with (from tensorflow.python.framework.ops) is deprecated and will be removed in a future version.\n",
      "Instructions for updating:\n",
      "Colocations handled automatically by placer.\n",
      "WARNING:tensorflow:From /usr/local/lib/python3.6/dist-packages/tensorflow/python/ops/math_ops.py:3066: to_int32 (from tensorflow.python.ops.math_ops) is deprecated and will be removed in a future version.\n",
      "Instructions for updating:\n",
      "Use tf.cast instead.\n",
      "Epoch 1/10\n",
      "20000/20000 [==============================] - 14s 676us/step - loss: 1.1484 - acc: 0.6515\n",
      "Epoch 2/10\n",
      "20000/20000 [==============================] - 13s 664us/step - loss: 0.2236 - acc: 0.9371\n",
      "Epoch 3/10\n",
      "20000/20000 [==============================] - 13s 668us/step - loss: 0.1425 - acc: 0.9568\n",
      "Epoch 4/10\n",
      "20000/20000 [==============================] - 13s 668us/step - loss: 0.1112 - acc: 0.9662\n",
      "Epoch 5/10\n",
      "20000/20000 [==============================] - 13s 661us/step - loss: 0.0949 - acc: 0.9707\n",
      "Epoch 6/10\n",
      "20000/20000 [==============================] - 13s 652us/step - loss: 0.0833 - acc: 0.9736\n",
      "Epoch 7/10\n",
      "20000/20000 [==============================] - 14s 677us/step - loss: 0.0755 - acc: 0.9763\n",
      "Epoch 8/10\n",
      "20000/20000 [==============================] - 13s 657us/step - loss: 0.0689 - acc: 0.9776\n",
      "Epoch 9/10\n",
      "20000/20000 [==============================] - 13s 650us/step - loss: 0.0629 - acc: 0.9793\n",
      "Epoch 10/10\n",
      "20000/20000 [==============================] - 13s 652us/step - loss: 0.0571 - acc: 0.9814\n"
     ]
    }
   ],
   "source": [
    "sigmoid_model = Sequential([\n",
    "    Conv2D(filters=6, kernel_size=(5,5), activation='sigmoid', input_shape=(28,28,1)),\n",
    "    MaxPooling2D(pool_size=(2,2)),\n",
    "    Conv2D(filters=16, kernel_size=(5,5), activation='sigmoid', input_shape=(28,28,1)),\n",
    "    MaxPooling2D(pool_size=(2,2)),\n",
    "    Flatten(),\n",
    "    Dense(units=120, activation='sigmoid'),\n",
    "    Dense(units=84, activation='sigmoid'),\n",
    "    Dense(units=10, activation='softmax')\n",
    "])\n",
    "\n",
    "sigmoid_model.compile(optimizer='rmsprop', loss='sparse_categorical_crossentropy', metrics=['acc'])\n",
    "sigmoid_history = sigmoid_model.fit(train_images, train_labels, epochs=10)"
   ]
  },
  {
   "cell_type": "markdown",
   "metadata": {},
   "source": [
    "<h3>Tanh activation CNN model</h3>"
   ]
  },
  {
   "cell_type": "code",
   "execution_count": 0,
   "metadata": {
    "colab": {
     "base_uri": "https://localhost:8080/",
     "height": 1020
    },
    "colab_type": "code",
    "id": "OCc7IgqSnvEz",
    "outputId": "bbee628b-a16d-4f54-d670-4d9680f8e013"
   },
   "outputs": [
    {
     "name": "stdout",
     "output_type": "stream",
     "text": [
      "Epoch 1/10\n",
      "20000/20000 [==============================] - 13s 664us/step - loss: 0.2949 - acc: 0.9098\n",
      "Epoch 2/10\n",
      "20000/20000 [==============================] - 13s 655us/step - loss: 0.1163 - acc: 0.9637\n",
      "Epoch 3/10\n",
      "20000/20000 [==============================] - 13s 653us/step - loss: 0.0854 - acc: 0.9730\n",
      "Epoch 4/10\n",
      "20000/20000 [==============================] - 13s 654us/step - loss: 0.0655 - acc: 0.9786\n",
      "Epoch 5/10\n",
      "20000/20000 [==============================] - 13s 652us/step - loss: 0.0514 - acc: 0.9835\n",
      "Epoch 6/10\n",
      "20000/20000 [==============================] - 13s 653us/step - loss: 0.0451 - acc: 0.9855\n",
      "Epoch 7/10\n",
      "20000/20000 [==============================] - 13s 653us/step - loss: 0.0338 - acc: 0.9878\n",
      "Epoch 8/10\n",
      "20000/20000 [==============================] - 13s 662us/step - loss: 0.0285 - acc: 0.9900\n",
      "Epoch 9/10\n",
      "20000/20000 [==============================] - 13s 654us/step - loss: 0.0245 - acc: 0.9921\n",
      "Epoch 10/10\n",
      "20000/20000 [==============================] - 13s 653us/step - loss: 0.0211 - acc: 0.9934\n"
     ]
    }
   ],
   "source": [
    "tanh_model = Sequential([\n",
    "    Conv2D(filters=6, kernel_size=(5,5), activation='tanh', input_shape=(28,28,1)),\n",
    "    MaxPooling2D(pool_size=(2,2)),\n",
    "    Conv2D(filters=16, kernel_size=(5,5), activation='tanh', input_shape=(28,28,1)),\n",
    "    MaxPooling2D(pool_size=(2,2)),\n",
    "    Flatten(),\n",
    "    Dense(units=120, activation='tanh'),\n",
    "    Dense(units=84, activation='tanh'),\n",
    "    Dense(units=10, activation='softmax')\n",
    "])\n",
    "\n",
    "tanh_model.compile(optimizer='rmsprop', loss='sparse_categorical_crossentropy', metrics=['acc'])\n",
    "tanh_history = tanh_model.fit(train_images, train_labels, epochs=10)"
   ]
  },
  {
   "cell_type": "markdown",
   "metadata": {},
   "source": [
    "<h3>ReLU (Rectified Linear Unit) activation CNN model</h3>"
   ]
  },
  {
   "cell_type": "code",
   "execution_count": 0,
   "metadata": {
    "colab": {
     "base_uri": "https://localhost:8080/",
     "height": 1020
    },
    "colab_type": "code",
    "id": "7uLYd9DbqAxO",
    "outputId": "484bbe72-7ecc-4a31-bbed-ce78419ee9e5"
   },
   "outputs": [
    {
     "name": "stdout",
     "output_type": "stream",
     "text": [
      "Epoch 1/10\n",
      "20000/20000 [==============================] - 13s 662us/step - loss: 1.3409 - acc: 0.8261\n",
      "Epoch 2/10\n",
      "20000/20000 [==============================] - 13s 647us/step - loss: 0.1536 - acc: 0.9568\n",
      "Epoch 3/10\n",
      "20000/20000 [==============================] - 13s 647us/step - loss: 0.1020 - acc: 0.9721\n",
      "Epoch 4/10\n",
      "20000/20000 [==============================] - 13s 648us/step - loss: 0.0823 - acc: 0.9774\n",
      "Epoch 5/10\n",
      "20000/20000 [==============================] - 13s 649us/step - loss: 0.0697 - acc: 0.9821\n",
      "Epoch 6/10\n",
      "20000/20000 [==============================] - 13s 647us/step - loss: 0.0549 - acc: 0.9852\n",
      "Epoch 7/10\n",
      "20000/20000 [==============================] - 13s 646us/step - loss: 0.0490 - acc: 0.9883\n",
      "Epoch 8/10\n",
      "20000/20000 [==============================] - 13s 645us/step - loss: 0.0493 - acc: 0.9872\n",
      "Epoch 9/10\n",
      "20000/20000 [==============================] - 13s 647us/step - loss: 0.0435 - acc: 0.9901\n",
      "Epoch 10/10\n",
      "20000/20000 [==============================] - 13s 646us/step - loss: 0.0451 - acc: 0.9908\n"
     ]
    }
   ],
   "source": [
    "relu_model = Sequential([\n",
    "    Conv2D(filters=6, kernel_size=(5,5), activation='relu', input_shape=(28,28,1)),\n",
    "    MaxPooling2D(pool_size=(2,2)),\n",
    "    Conv2D(filters=16, kernel_size=(5,5), activation='relu', input_shape=(28,28,1)),\n",
    "    MaxPooling2D(pool_size=(2,2)),\n",
    "    Flatten(),\n",
    "    Dense(units=120, activation='relu'),\n",
    "    Dense(units=84, activation='relu'),\n",
    "    Dense(units=10, activation='softmax')\n",
    "])\n",
    "\n",
    "relu_model.compile(optimizer='rmsprop', loss='sparse_categorical_crossentropy', metrics=['acc'])\n",
    "relu_history = relu_model.fit(train_images, train_labels, epochs=10)"
   ]
  },
  {
   "cell_type": "markdown",
   "metadata": {},
   "source": [
    "<h2>Losses and Accuracies</h2>\n",
    "<p>Using history object provided by the fit( ) function in Keras, I can easily obtain the losses and accuracy of the model at each epoch during the training phase. I simple stored these values separately in different variables for easier visual comparisons.</p>"
   ]
  },
  {
   "cell_type": "code",
   "execution_count": 0,
   "metadata": {
    "colab": {},
    "colab_type": "code",
    "id": "rOnSVzOZqrsz"
   },
   "outputs": [],
   "source": [
    "sigmoid_loss, sigmoid_acc = sigmoid_history.history['loss'], sigmoid_history.history['acc']\n",
    "tanh_loss, tanh_acc = tanh_history.history['loss'], tanh_history.history['acc']\n",
    "relu_loss, relu_acc = relu_history.history['loss'], relu_history.history['acc']\n",
    "\n",
    "epochs=range(10)"
   ]
  },
  {
   "cell_type": "markdown",
   "metadata": {},
   "source": [
    "<h2>Model Performance Chart</h2>\n",
    "<p>In this section, I utilized the accuracies and losses collected from the various CNN models collected and plotted them as line charts using Matplotlib library.</p>"
   ]
  },
  {
   "cell_type": "code",
   "execution_count": 0,
   "metadata": {
    "colab": {
     "base_uri": "https://localhost:8080/",
     "height": 592
    },
    "colab_type": "code",
    "id": "XT7_VjdRr7eL",
    "outputId": "08f11ad3-fc6d-463e-e52d-1e645c13da98"
   },
   "outputs": [
    {
     "data": {
      "image/png": "[encoded data removed]",
      "text/plain": [
       "<Figure size 432x288 with 1 Axes>"
      ]
     },
     "metadata": {
      "tags": []
     },
     "output_type": "display_data"
    },
    {
     "data": {
      "image/png": "[encoded data removed]",
      "text/plain": [
       "<Figure size 432x288 with 1 Axes>"
      ]
     },
     "metadata": {
      "tags": []
     },
     "output_type": "display_data"
    }
   ],
   "source": [
    "plt.plot(epochs, sigmoid_loss, label='Sigmoid', color='red')\n",
    "plt.plot(epochs, tanh_loss, label='Tanh', color='green')\n",
    "plt.plot(epochs, relu_loss, label='ReLU', color='blue')\n",
    "plt.title('Loss Curve')\n",
    "plt.xlabel('Epochs')\n",
    "plt.ylabel('Loss')\n",
    "plt.legend()\n",
    "plt.show()\n",
    "\n",
    "plt.plot(epochs, sigmoid_acc, label='Sigmoid', color='red')\n",
    "plt.plot(epochs, tanh_acc, label='Tanh', color='green')\n",
    "plt.plot(epochs, relu_acc, label='ReLU', color='blue')\n",
    "plt.title('Accuracy Curve')\n",
    "plt.xlabel('Epochs')\n",
    "plt.ylabel('Accuracy')\n",
    "plt.legend()\n",
    "plt.show()\n",
    "\n"
   ]
  },
  {
   "cell_type": "markdown",
   "metadata": {},
   "source": [
    "<h2>Report</h2>\n",
    "<p>The line curves illustrate the loss and accuracy of the models trained over 10 epochs. These models are identified from the line colours shown in the graph and mentioned in the legend section.</p>\n",
    "<p>From the loss curve, we can see that sigmoid activation function has the most loss overall. Tanh and ReLU activation functions have similar loss values throughout the training process.</p>\n",
    "<p>From the accuracy curve, it can be observed that the sigmoid activation function begins the training process with the lowest accuracy level but later on, it stagnates at around 0.95 accuracy. The tanh and ReLU activation functions again, maintain similar accuracy levels during the training process.</p>\n",
    "<p>All in all, it can be said that a neural network using sigmoid activation function takes longer to reach a good accuracy compaed to that network using a Tanh and ReLU activation function. We can alternatively use Tanh activation function or ReLu activation function to obtain good results in less number of epochs. Thus, it is advantageous to use these activation functions in your model instead of the sigmoid activation function.</p>"
   ]
  }
 ],
 "metadata": {
  "accelerator": "TPU",
  "colab": {
   "collapsed_sections": [],
   "name": "Activation functions comparisons.ipynb",
   "provenance": [],
   "version": "0.3.2"
  },
  "kernelspec": {
   "display_name": "Python 3",
   "language": "python",
   "name": "python3"
  },
  "language_info": {
   "codemirror_mode": {
    "name": "ipython",
    "version": 3
   },
   "file_extension": ".py",
   "mimetype": "text/x-python",
   "name": "python",
   "nbconvert_exporter": "python",
   "pygments_lexer": "ipython3",
   "version": "3.7.1"
  }
 },
 "nbformat": 4,
 "nbformat_minor": 1
}
